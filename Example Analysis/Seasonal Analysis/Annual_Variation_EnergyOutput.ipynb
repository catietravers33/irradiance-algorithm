{
 "cells": [
  {
   "cell_type": "code",
   "execution_count": null,
   "id": "fefe31ad-4d92-4e00-8072-96f2f284bf5a",
   "metadata": {},
   "outputs": [],
   "source": [
    "#this notebook will show yearly variation through undertaken analysis on the same day across the date range of the PVGIS database\n",
    "#the aim is to show the ranging/error bars for each route "
   ]
  },
  {
   "cell_type": "code",
   "execution_count": null,
   "id": "382463cc-08e5-49c4-ae36-f022e269be04",
   "metadata": {
    "tags": []
   },
   "outputs": [],
   "source": [
    "#import relevant packaages \n",
    "import pandas.tseries.offsets as po\n",
    "import pvlib\n",
    "#This package is supplied in the main branch of Github\n",
    "import Coords_2_EY\n",
    "import pandas as pd \n",
    "import numpy as np      \n",
    "import matplotlib.pyplot as plt\n",
    "import timeit\n",
    "from solcast_frames.latlng import LatLng\n",
    "from solcast_frames.radiationframehandler import RadiationFrameHandler\n",
    "from solcast_frames.powerframehandler import PowerFrameHandler\n",
    "from datetime import datetime, timedelta, date\n",
    "import solcast as sc\n",
    "import requests\n",
    "from dateutil import tz\n",
    "#this package is supplied in the main Github branch`\n",
    "import Trip_to_Distinct_Coords\n",
    "import os\n",
    "import geemap\n",
    "import json\n",
    "import openrouteservice\n",
    "from openrouteservice import convert\n",
    "from geojson import MultiLineString\n",
    "from geojson import LineString\n",
    "from timezonefinder import TimezoneFinder\n",
    "import pytz\n",
    "from pytz import timezone\n",
    "import calendar\n",
    "\n",
    "client = openrouteservice.Client(key = '5b3ce3597851110001cf6248d5cc6329856d4104b16de2d55d56f603')"
   ]
  },
  {
   "cell_type": "markdown",
   "id": "106109db-5716-4a3d-907b-681f6c03e993",
   "metadata": {},
   "source": [
    "<h2> Import Processed Data</h2>\n",
    "This section imports the locations of Woolworths distribution centres and stores, the 3 predefined trips and their coordinates. To further save time, the PVGIS data is extracted from the web interface for each coordinate for each trip and supplied in the location specified."
   ]
  },
  {
   "cell_type": "code",
   "execution_count": null,
   "id": "393b3453-1e7a-43cf-affc-c9b5027745cc",
   "metadata": {
    "tags": []
   },
   "outputs": [],
   "source": [
    "#imported processed woolworths stores and distribution centres data\n",
    "ww_dcs = pd.read_csv(\"data/ww_dcs_points_ll.csv\")\n",
    "ww_stores = pd.read_csv(\"data/ww_stores_points_ll.csv\")"
   ]
  },
  {
   "cell_type": "code",
   "execution_count": null,
   "id": "783e6764-73ae-49bd-93ab-f562ca4a5bc2",
   "metadata": {
    "tags": []
   },
   "outputs": [],
   "source": [
    "#import predefined coordinates to save processing time\n",
    "#This trip is from Sydney Chilled Distribution Centre to Woolworths Town Hall in NSW\n",
    "NSW_coords = pd.read_csv('data/Trip_Coords/NSW/SydChilled_TownHall.csv')\n",
    "NSW_coords.set_index('Unnamed: 0', inplace = True)"
   ]
  },
  {
   "cell_type": "code",
   "execution_count": null,
   "id": "11a0003d-c622-4276-a529-fc12b2506ac5",
   "metadata": {
    "tags": []
   },
   "outputs": [],
   "source": [
    "#This trip is from Woolworths Stud Park to Melbourne Chilled Distribution Centre\n",
    "VIC_coords = pd.read_csv('data/Trip_Coords/VIC/StudPark_MelbChilled.csv')\n",
    "VIC_coords.set_index('Unnamed: 0', inplace = True)"
   ]
  },
  {
   "cell_type": "code",
   "execution_count": null,
   "id": "7370f854-fea7-4f13-9a5c-36f71017e490",
   "metadata": {
    "tags": []
   },
   "outputs": [],
   "source": [
    "#this trip is from Perth Chilled Distribution Centre to Woolworths Collie\n",
    "WA_coords = pd.read_csv('data/Trip_Coords/WA/PerthChilled_Collie.csv')\n",
    "WA_coords.set_index('Unnamed: 0', inplace = True)"
   ]
  },
  {
   "cell_type": "code",
   "execution_count": null,
   "id": "d6512c33-3513-4f94-9fab-34b9fe461494",
   "metadata": {
    "tags": []
   },
   "outputs": [],
   "source": [
    "NSW_PVGIS_data = {}\n",
    "for i in range(0, len(NSW_coords)-1):\n",
    "    NSW_PVGIS_data[i] = pd.read_csv(\"data/PVGIS/Processed/NSW_PVGIS_processed_\"+f\"{i}\")"
   ]
  },
  {
   "cell_type": "code",
   "execution_count": null,
   "id": "5bde6e8d-ad2f-4895-9fab-7a2a18e5fb96",
   "metadata": {
    "tags": []
   },
   "outputs": [],
   "source": [
    "VIC_PVGIS_data = {}\n",
    "for i in range(0, len(VIC_coords)-1):\n",
    "    VIC_PVGIS_data[i] = pd.read_csv(\"data/PVGIS/Processed/VIC_PVGIS_processed_\"+f\"{i}\")"
   ]
  },
  {
   "cell_type": "code",
   "execution_count": null,
   "id": "66babfbb-8b69-4fe1-9503-76c70e5d13a6",
   "metadata": {
    "tags": []
   },
   "outputs": [],
   "source": [
    "WA_PVGIS_data = {}\n",
    "for i in range(0, len(WA_coords)-1):\n",
    "    WA_PVGIS_data[i] = pd.read_csv(\"data/PVGIS/Processed/WA_PVGIS_processed_\"+f\"{i}\")"
   ]
  },
  {
   "cell_type": "markdown",
   "id": "1fc11e92-c604-4473-8111-dbaa10d20522",
   "metadata": {},
   "source": [
    "<h2>Function Definition</h2>\n",
    "Specify functions that will repeatedly be use throughout this coming analysis. Note that some adjustments are required here since I am working with offline PVGIS data rather than querying the API in every function call."
   ]
  },
  {
   "cell_type": "code",
   "execution_count": null,
   "id": "fb60d5e7-4eac-4e64-982d-1c103cc6ea51",
   "metadata": {
    "tags": []
   },
   "outputs": [],
   "source": [
    "def solar_data_processing(df):\n",
    "    # the difference between this function and the one specified in the Coords_2_EY library\n",
    "    # is accounting for the difference in variable type due to importing data from a csv file\n",
    "    df['aoi'] = 90 - df['H_sun']\n",
    "    df['IAM'] = [pvlib.iam.martin_ruiz(df['aoi'][i]) for i in range(0,len(df))]\n",
    "    #Calculate total irradiance incident on panels\n",
    "    # Used equation GHI = DNI * IAM * cos(H_sun) + DHI \n",
    "    df['TII'] = df['Gb(i)']*df['IAM']*np.cos(np.deg2rad(df['H_sun'].astype(float)))+df['Gd(i)']\n",
    "    #calculate cell temperatures\n",
    "    df['T_cell'] = pvlib.temperature.faiman(df['TII'], df['T2m'], wind_speed = df['WS10m'])\n",
    "    df.drop(axis = 1, labels = 'index', inplace = True )\n",
    "    return df"
   ]
  },
  {
   "cell_type": "code",
   "execution_count": null,
   "id": "3ac1ccfe-aef6-43a5-81fa-2c7ea9d9f12f",
   "metadata": {
    "tags": []
   },
   "outputs": [],
   "source": [
    "def full_stage_downloaded(data,year,month,day,hour,minute,n_panels,P_stc,gamma_p):\n",
    "    sol_data = Coords_2_EY.data_collation_monthly(year,month,day,hour,minute,data)\n",
    "    processed_sol_data = solar_data_processing(sol_data)\n",
    "    final = Coords_2_EY.calculate_power_energy(processed_sol_data,n_panels,P_stc,gamma_p)\n",
    "    return final"
   ]
  },
  {
   "cell_type": "code",
   "execution_count": null,
   "id": "b1c52a83-fe48-4aea-b2a4-0a499a66af6a",
   "metadata": {
    "tags": []
   },
   "outputs": [],
   "source": [
    "def annual_variation(data, state, month, hour, minute, n_panels, P_stc, gamma_p):\n",
    "    if state  == 'WA':\n",
    "        start = date(2006, month, 1)\n",
    "        end = date(2017, 1, 1)\n",
    "    else:\n",
    "        start = date(2006, month, 2)\n",
    "        end = date(2021, 1, 1)\n",
    "    date_range = pd.date_range(start,end,freq='d').date\n",
    "    res = []\n",
    "    for i in date_range:\n",
    "        if i.month == month:\n",
    "            res.append(i)\n",
    "    Dates = []\n",
    "    energy_output = []\n",
    "    for i in range(0,len(res)):\n",
    "        year = res[i].year\n",
    "        month = res[i].month\n",
    "        day = res[i].day\n",
    "        Dates.append(res[i])\n",
    "        #print(year,month,day,hour,minute)\n",
    "        table = full_stage_downloaded(data,year,month,day,hour,minute,n_panels,P_stc,gamma_p)\n",
    "        energy_output.append(table['Energy'].sum())\n",
    "        #print(f'{i}',\"/100\")\n",
    "        #print(\"Current Time =\", current_time)\n",
    "        #print(res[i])\n",
    "    outputs = pd.DataFrame()\n",
    "    outputs.insert(0, \"Date\", Dates)\n",
    "    outputs.insert(1, \"Energy Output\", energy_output)\n",
    "    outputs.to_csv('results/monthlyvariation/'+f'{state}'+'/'+f'{hour}'+'.csv')\n",
    "    now = datetime.now()\n",
    "    current_time = now.strftime(\"%H:%M:%S\")\n",
    "    print(\"Finished \", hour, \" \", minute, \"Current Time=\", current_time)\n",
    "    return energy_output"
   ]
  },
  {
   "cell_type": "code",
   "execution_count": null,
   "id": "953f5ab5-e56b-4605-907e-fd07280a73a7",
   "metadata": {},
   "outputs": [],
   "source": [
    "def year_collated(data, state, hour, minute, n_panels, P_stc, gamma_p):\n",
    "    yearly_data = []\n",
    "    i = 1\n",
    "    for i in range(1,13):\n",
    "        res = annual_variation(data, state, i, hour, minute, n_panels, P_stc, gamma_p)\n",
    "        yearly_data.append(res)\n",
    "        i += 1\n",
    "    return yearly_data"
   ]
  },
  {
   "cell_type": "code",
   "execution_count": null,
   "id": "02e89048-08f3-4085-a7c0-33249969f98f",
   "metadata": {},
   "outputs": [],
   "source": [
    "def histogram_plot(dataset): \n",
    "    n_obs=len(dataset)\n",
    "    intervals = round(np.sqrt(n_obs))\n",
    "    rang = max(dataset) - min(dataset)\n",
    "    width = rang/intervals \n",
    "    bins=[round(min(dataset))+round(width*i) for i in range(0,intervals)]    \n",
    "    fig, ax = plt.subplots()\n",
    "    n, bins, patches = ax.hist(dataset, bins)\n",
    "    ax.set_xlabel('Energy Output (Wh)')\n",
    "    ax.set_ylabel('Count')\n",
    "    return fig, ax"
   ]
  },
  {
   "cell_type": "code",
   "execution_count": null,
   "id": "06b2f448-df82-4d54-9d1c-95dcb35eebd5",
   "metadata": {},
   "outputs": [],
   "source": [
    "def stats_analysis(dataset,state,time,npanels):\n",
    "    '''\n",
    "    Simple descriptive statistics analysis of energy output by month data\n",
    "    \n",
    "    :params dataset: energy output aggregated by month\n",
    "    :params state: a string referring to the state of Australia in which the trip occurs\n",
    "    :params time: string of time of trip - simply for naming convention only\n",
    "    :params npanels: number of solar panels also only for csv name\n",
    "    \n",
    "    :returns: a pandas dataframe with average of energy output, standard deviation, median and standard error\n",
    "    '''\n",
    "    months = list(calendar.month_name)\n",
    "    months = months[1:]\n",
    "    mean = []\n",
    "    stdevs = []\n",
    "    median = []\n",
    "    sem = []\n",
    "    df = pd.DataFrame(dataset).T\n",
    "    for i in range(0, len(dataset)): \n",
    "        mean.append(df[i].mean())\n",
    "        sem.append(df[i].sem())\n",
    "        median.append(df[i].median())\n",
    "        stdevs.append(df[i].std())\n",
    "    stats = pd.DataFrame({'months': months, 'energy_output_mean_Wh': mean,'standard deviation': stdevs, 'energy_output_med_Wh': median, 'standard error': sem})\n",
    "    stats.to_csv('results/monthlyvariation/'+f'{state}'+'/' + f'{time}'+'_'+f'{npanels}'+ '_stats.csv')\n",
    "    "
   ]
  },
  {
   "cell_type": "markdown",
   "id": "b3abddf9-bc52-4e12-8953-a504754c207a",
   "metadata": {},
   "source": [
    "<h2>Collate yearly data for trips and times of interest</h2>"
   ]
  },
  {
   "cell_type": "code",
   "execution_count": null,
   "id": "d0d43c02-9c0c-40fe-9bf7-3e85bc4edcfb",
   "metadata": {
    "scrolled": true,
    "tags": []
   },
   "outputs": [],
   "source": [
    "NSW_morn_monthly = year_collated(NSW_PVGIS_data, 'NSW', 7, 30, 3, 400, -0.0029)\n",
    "NSW_lunch_monthly = year_collated(NSW_PVGIS_data, 'NSW', 12, 30, 3, 400, -0.0029)\n",
    "NSW_even_monthly = year_collated(NSW_PVGIS_data, 'NSW', 16, 30, 3, 400, -0.0029)"
   ]
  },
  {
   "cell_type": "code",
   "execution_count": null,
   "id": "a560187c",
   "metadata": {},
   "outputs": [],
   "source": [
    "months = list(calendar.month_name)\n",
    "months = months[1:]\n",
    "#save relevant data to annual_selection/state directory as a csv\n",
    "collated_morn_NSW = pd.DataFrame(NSW_morn_monthly)\n",
    "collated_morn_NSW = collated_morn_NSW.transpose()\n",
    "collated_morn_NSW.columns = months\n",
    "collated_morn_NSW.to_csv('data/annual_selection/NSW/morn_3.csv')\n",
    "collated_lunch_NSW = pd.DataFrame(NSW_lunch_monthly)\n",
    "collated_lunch_NSW = collated_lunch_NSW.transpose()\n",
    "collated_lunch_NSW.columns = months\n",
    "collated_lunch_NSW.to_csv('data/annual_selection/NSW/lunch_3.csv')\n",
    "collated_even_NSW = pd.DataFrame(NSW_even_monthly)\n",
    "collated_even_NSW = collated_even_NSW.transpose()\n",
    "collated_even_NSW.columns = months\n",
    "collated_even_NSW.to_csv('data/annual_selection/NSW/even_3.csv')"
   ]
  },
  {
   "cell_type": "code",
   "execution_count": null,
   "id": "7798472b-c6c5-4bb5-a536-abc20b78d1af",
   "metadata": {
    "scrolled": true,
    "tags": []
   },
   "outputs": [],
   "source": [
    "VIC_morn_monthly = year_collated(VIC_PVGIS_data, 'VIC', 7, 30, 3, 400, -0.0029)\n",
    "VIC_lunch_monthly = year_collated(VIC_PVGIS_data, 'VIC', 12, 30, 3, 400, -0.0029)\n",
    "VIC_even_monthly = year_collated(VIC_PVGIS_data, 'VIC', 16, 30, 3, 400, -0.0029) "
   ]
  },
  {
   "cell_type": "code",
   "execution_count": null,
   "id": "2ac41346",
   "metadata": {},
   "outputs": [],
   "source": [
    "months = list(calendar.month_name)\n",
    "months = months[1:]\n",
    "collated_morn_VIC = pd.DataFrame(VIC_morn_monthly)\n",
    "collated_morn_VIC = collated_morn_VIC.transpose()\n",
    "collated_morn_VIC.columns = months\n",
    "collated_morn_VIC.to_csv('data/annual_selection/VIC/morn_3.csv')\n",
    "collated_lunch_VIC = pd.DataFrame(VIC_lunch_monthly)\n",
    "collated_lunch_VIC = collated_lunch_VIC.transpose()\n",
    "collated_lunch_VIC.columns = months\n",
    "collated_lunch_VIC.to_csv('data/annual_selection/VIC/lunch_3.csv')\n",
    "collated_even_VIC= pd.DataFrame(VIC_even_monthly)\n",
    "collated_even_VIC = collated_even_VIC.transpose()\n",
    "collated_even_VIC.columns = months\n",
    "collated_even_VIC.to_csv('data/annual_selection/VIC/even_3.csv')"
   ]
  },
  {
   "cell_type": "code",
   "execution_count": null,
   "id": "99eefe2e-ea9f-4d72-ad8d-bd2a8cccb1e5",
   "metadata": {
    "scrolled": true,
    "tags": []
   },
   "outputs": [],
   "source": [
    "WA_morn_monthly = year_collated(WA_PVGIS_data, 'WA', 7, 36, 3, 400, -0.0029)\n",
    "WA_lunch_monthly = year_collated(WA_PVGIS_data, 'WA', 12, 36, 3, 400, -0.0029)\n",
    "WA_even_monthly = year_collated(WA_PVGIS_data, 'WA', 16, 36, 3, 400, -0.0029)"
   ]
  },
  {
   "cell_type": "code",
   "execution_count": null,
   "id": "31d92107",
   "metadata": {},
   "outputs": [],
   "source": [
    "months = list(calendar.month_name)\n",
    "months = months[1:]\n",
    "collated_morn_WA = pd.DataFrame(WA_morn_monthly)\n",
    "collated_morn_WA = collated_morn_WA.transpose()\n",
    "collated_morn_WA.columns = months\n",
    "collated_morn_WA.to_csv('data/annual_selection/WA/morn_3.csv')\n",
    "collated_lunch_WA = pd.DataFrame(WA_lunch_monthly)\n",
    "collated_lunch_WA = collated_lunch_WA.transpose()\n",
    "collated_lunch_WA.columns = months\n",
    "collated_lunch_WA.to_csv('data/annual_selection/WA/lunch_3.csv')\n",
    "collated_even_WA= pd.DataFrame(WA_even_monthly)\n",
    "collated_even_WA = collated_even_WA.transpose()\n",
    "collated_even_WA.columns = months\n",
    "collated_even_WA.to_csv('data/annual_selection/WA/even_3.csv')"
   ]
  },
  {
   "cell_type": "code",
   "execution_count": null,
   "id": "3a15da64-5542-4aee-ac4b-cc2eb3be7087",
   "metadata": {},
   "outputs": [],
   "source": [
    "stats_analysis(VIC_morn_monthly,'VIC','morning',3)\n",
    "stats_analysis(VIC_lunch_monthly,'VIC','lunch',3)\n",
    "stats_analysis(VIC_even_monthly,'VIC','evening',3)\n",
    "stats_analysis(NSW_morn_monthly,'NSW','morning',3)\n",
    "stats_analysis(NSW_lunch_monthly,'NSW','lunch',3)\n",
    "stats_analysis(NSW_even_monthly,'NSW','evening',3)\n",
    "stats_analysis(WA_morn_monthly,'WA','morning',3)\n",
    "stats_analysis(WA_lunch_monthly,'WA','lunch',3)\n",
    "stats_analysis(WA_even_monthly,'WA','evening',3)"
   ]
  },
  {
   "cell_type": "markdown",
   "id": "7d08950a-46cb-42a8-bde9-6e8aa713ef15",
   "metadata": {},
   "source": [
    "<h2>Import existing statistics for plotting</h2>\n",
    "Only if analysis has already been undertaken and saved to correct directory"
   ]
  },
  {
   "cell_type": "code",
   "execution_count": null,
   "id": "acb9a0e6",
   "metadata": {},
   "outputs": [],
   "source": [
    "VIC_morn_stats = pd.read_csv('results/monthlyvariation/VIC/morning_3_stats.csv')\n",
    "VIC_lunch_stats = pd.read_csv('results/monthlyvariation/VIC/lunch_3_stats.csv')\n",
    "VIC_even_stats = pd.read_csv('results/monthlyvariation/VIC/evening_3_stats.csv')"
   ]
  },
  {
   "cell_type": "code",
   "execution_count": null,
   "id": "b1c18d61",
   "metadata": {},
   "outputs": [],
   "source": [
    "NSW_morn_stats = pd.read_csv('results/monthlyvariation/NSW/morning_3_stats.csv')\n",
    "NSW_lunch_stats = pd.read_csv('results/monthlyvariation/NSW/lunch_3_stats.csv')\n",
    "NSW_even_stats = pd.read_csv('results/monthlyvariation/NSW/evening_3_stats.csv')"
   ]
  },
  {
   "cell_type": "code",
   "execution_count": null,
   "id": "401399bf",
   "metadata": {},
   "outputs": [],
   "source": [
    "WA_morn_stats = pd.read_csv('results/monthlyvariation/WA/morning_3_stats.csv')\n",
    "WA_lunch_stats = pd.read_csv('results/monthlyvariation/WA/lunch_3_stats.csv')\n",
    "WA_even_stats = pd.read_csv('results/monthlyvariation/WA/evening_3_stats.csv')"
   ]
  },
  {
   "cell_type": "markdown",
   "id": "6c0ce941-9e46-4a0f-91ab-ba409e55e82e",
   "metadata": {},
   "source": [
    "<h2>Plot Results</h2>\n",
    "Results from annual analysis are plotted demonstrating average energy yield, and error bars with standard deviation."
   ]
  },
  {
   "cell_type": "code",
   "execution_count": null,
   "id": "b8e1a34e",
   "metadata": {},
   "outputs": [],
   "source": [
    "months = list(calendar.month_name)\n",
    "months = months[1:]\n",
    "fig = plt.subplots(figsize = (7,5))\n",
    "barWidth = 0.25\n",
    "br1 = np.arange(12)\n",
    "br2 = [x+barWidth for x in br1]\n",
    "br3 = [x+barWidth for x in br2]\n",
    "plt.bar(br1, height = NSW_morn_stats['energy_output_mean_Wh'], color = '#003f5c', width = barWidth, label = 'NSW', yerr = NSW_morn_stats['standard deviation'], capsize = 3, ecolor = 'grey')\n",
    "plt.bar(br2, height = VIC_morn_stats['energy_output_mean_Wh'], color = '#bc5090', width = barWidth, label = 'VIC', yerr = VIC_morn_stats['standard deviation'], capsize = 3, ecolor = 'grey')\n",
    "plt.bar(br3, height = WA_morn_stats['energy_output_mean_Wh'], color = '#ffa600', width = barWidth, label = 'WA', yerr = WA_morn_stats['standard deviation'], capsize = 3, ecolor = 'grey')\n",
    "plt.xlabel(\"Month\")\n",
    "plt.ylabel(\"Energy Yield (Wh)\")\n",
    "plt.title(\"Energy yield by month for each morning trip (7:30am)\")\n",
    "plt.xticks([r+barWidth for r in range(12)],months, rotation = 45)\n",
    "plt.legend()\n",
    "plt.savefig('results/monthlyvariation/graphs/seminar/morning_trip_3.png',bbox_inches='tight')"
   ]
  },
  {
   "cell_type": "code",
   "execution_count": null,
   "id": "f27d4656",
   "metadata": {},
   "outputs": [],
   "source": [
    "fig = plt.subplots(figsize = (7,5))\n",
    "barWidth = 0.25\n",
    "br1 = np.arange(12)\n",
    "br2 = [x+barWidth for x in br1]\n",
    "br3 = [x+barWidth for x in br2]\n",
    "plt.bar(br1, height = NSW_lunch_stats['energy_output_mean_Wh'], color = '#003f5c', width = barWidth, label = 'NSW', yerr = NSW_lunch_stats['standard deviation'], capsize = 3, ecolor = 'grey')\n",
    "plt.bar(br2, height = VIC_lunch_stats['energy_output_mean_Wh'], color = '#bc5090', width = barWidth, label = 'VIC', yerr = VIC_lunch_stats['standard deviation'], capsize = 3, ecolor = 'grey')\n",
    "plt.bar(br3, height = WA_lunch_stats['energy_output_mean_Wh'], color = '#ffa600', width = barWidth, label = 'WA', yerr = WA_lunch_stats['standard deviation'], capsize = 3, ecolor = 'grey')\n",
    "plt.xlabel(\"Month\")\n",
    "plt.ylabel(\"Energy Yield (Wh)\")\n",
    "plt.title(\"Energy yield by month for each lunch trip (12:30pm)\")\n",
    "plt.xticks([r+barWidth for r in range(12)],months, rotation = 45)\n",
    "plt.legend()\n",
    "plt.savefig('results/monthlyvariation/graphs/seminar/lunch_trip_3.png',bbox_inches='tight')"
   ]
  },
  {
   "cell_type": "code",
   "execution_count": null,
   "id": "1fa0dbbd",
   "metadata": {},
   "outputs": [],
   "source": [
    "fig = plt.subplots(figsize = (7,5))\n",
    "barWidth = 0.25\n",
    "br1 = np.arange(12)\n",
    "br2 = [x+barWidth for x in br1]\n",
    "br3 = [x+barWidth for x in br2]\n",
    "plt.bar(br1, height = NSW_even_stats['energy_output_mean_Wh'], color = '#003f5c', width = barWidth, label = 'NSW', yerr = NSW_even_stats['standard deviation'], capsize = 3, ecolor = 'grey' )\n",
    "plt.bar(br2, height = VIC_even_stats['energy_output_mean_Wh'], color = '#bc5090', width = barWidth, label = 'VIC', yerr = VIC_even_stats['standard deviation'], capsize = 3, ecolor = 'grey')\n",
    "plt.bar(br3, height = WA_even_stats['energy_output_mean_Wh'], color = '#ffa600', width = barWidth, label = 'WA', yerr = WA_even_stats['standard deviation'], capsize = 3, ecolor = 'grey')\n",
    "plt.xlabel(\"Month\")\n",
    "plt.ylabel(\"Energy Yield (Wh)\")\n",
    "plt.title(\"Energy yield by month for each evening trip (4:30pm)\")\n",
    "plt.xticks([r+barWidth for r in range(12)],months, rotation = 45)\n",
    "plt.legend()\n",
    "plt.ylim([0,1650])\n",
    "plt.savefig('results/monthlyvariation/graphs/seminar/evening_trip_3.png',bbox_inches='tight')"
   ]
  }
 ],
 "metadata": {
  "kernelspec": {
   "display_name": "Python [conda env:research] *",
   "language": "python",
   "name": "conda-env-research-py"
  },
  "language_info": {
   "codemirror_mode": {
    "name": "ipython",
    "version": 3
   },
   "file_extension": ".py",
   "mimetype": "text/x-python",
   "name": "python",
   "nbconvert_exporter": "python",
   "pygments_lexer": "ipython3",
   "version": "3.10.9"
  }
 },
 "nbformat": 4,
 "nbformat_minor": 5
}
