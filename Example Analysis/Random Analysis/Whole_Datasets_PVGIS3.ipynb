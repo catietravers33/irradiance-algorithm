{
 "cells": [
  {
   "cell_type": "code",
   "execution_count": null,
   "id": "06927850-09c3-46eb-ada0-5f56e4710669",
   "metadata": {},
   "outputs": [],
   "source": [
    "import pvlib\n",
    "import Coords_2_EY\n",
    "import pandas as pd \n",
    "import numpy as np      \n",
    "import matplotlib.pyplot as plt\n",
    "import timeit\n",
    "from solcast_frames.latlng import LatLng\n",
    "from solcast_frames.radiationframehandler import RadiationFrameHandler\n",
    "from solcast_frames.powerframehandler import PowerFrameHandler\n",
    "from datetime import datetime, timedelta, date\n",
    "import solcast as sc\n",
    "import requests\n",
    "from dateutil import tz\n",
    "import Trip_to_Distinct_Coords\n",
    "import os\n",
    "import scipy as sp\n",
    "import geemap\n",
    "import json\n",
    "import openrouteservice\n",
    "from openrouteservice import convert\n",
    "from geojson import MultiLineString\n",
    "from geojson import LineString\n",
    "from timezonefinder import TimezoneFinder\n",
    "import pytz\n",
    "from pytz import timezone\n",
    "\n",
    "client = openrouteservice.Client(key = '5b3ce3597851110001cf6248d5cc6329856d4104b16de2d55d56f603')"
   ]
  },
  {
   "cell_type": "markdown",
   "id": "12840222-06e9-4a8d-9e3e-e6b04859e8d2",
   "metadata": {},
   "source": [
    "<h2>Import Post-Processed Data</h2>\n",
    "Data points of distribution centres and stores, and coordinates of predefined trips in NSW, ACT, and VIC.\n",
    "\n",
    "NSW - Sydney Chilled Distribution Centre to Woolworths Town Hall\n",
    "VIC - Woolworths Stud Park to Melbourne Chilled Distribution Centre\n",
    "WA - Perth Chilled Distribution Centre to Woolworths Collie "
   ]
  },
  {
   "cell_type": "code",
   "execution_count": null,
   "id": "b535c4d8-acaa-4d3c-a551-6d3b57968075",
   "metadata": {},
   "outputs": [],
   "source": [
    "ww_dcs = pd.read_csv(\"data/ww_dcs_points_ll.csv\")\n",
    "ww_stores = pd.read_csv(\"data/ww_stores_points_ll.csv\")"
   ]
  },
  {
   "cell_type": "code",
   "execution_count": null,
   "id": "905e3bbc-f1b9-48aa-b5e5-e90610ebb0df",
   "metadata": {},
   "outputs": [],
   "source": [
    "VIC_coords = pd.read_csv('data/Trip_Coords/VIC/StudPark_MelbChilled.csv')\n",
    "VIC_coords.set_index('Unnamed: 0', inplace = True)"
   ]
  },
  {
   "cell_type": "code",
   "execution_count": null,
   "id": "3e40a4d7-ce70-438b-ac55-5cdc415bc1cf",
   "metadata": {},
   "outputs": [],
   "source": [
    "NSW_coords = pd.read_csv('data/Trip_Coords/NSW/SydChilled_TownHall.csv')\n",
    "NSW_coords.set_index('Unnamed: 0', inplace = True)"
   ]
  },
  {
   "cell_type": "code",
   "execution_count": null,
   "id": "c8a0d844-3cbb-4ce7-8072-a2ab3dbe03ae",
   "metadata": {},
   "outputs": [],
   "source": [
    "WA_coords = pd.read_csv('data/Trip_Coords/WA/PerthChilled_Collie.csv')\n",
    "WA_coords.set_index('Unnamed: 0', inplace = True)"
   ]
  },
  {
   "cell_type": "markdown",
   "id": "53841038-d9e9-4b65-bcf7-653023ff1fac",
   "metadata": {
    "tags": []
   },
   "source": [
    "<h1>Initial Code Run </h1>\n",
    "The following code shows how the downloaded PVGIS data is converted into a usuable form for the functions defined in my python scripts of Coords_2_EY. This code only needs to be run when reworking the data/ choosing a different set of coordinates, otherwise continue to load to csv's below."
   ]
  },
  {
   "cell_type": "code",
   "execution_count": null,
   "id": "f883b44d-1ae3-44ca-87cc-377f36da3c90",
   "metadata": {},
   "outputs": [],
   "source": [
    "VIC_List = os.listdir('data/PVGIS/VIC_trip')\n",
    "VIC_List = VIC_List[1:]\n",
    "VIC_List.sort(reverse=True) #VIC TRIP ONLY\n",
    "VIC_PVGIS_data = {}\n",
    "offset = 10\n",
    "for i in range(0,len(VIC_List)):\n",
    "    df = pd.read_csv('data/PVGIS/VIC_trip/'+ VIC_List[i])\n",
    "    df.drop(df.tail(12).index,\n",
    "        inplace = True)\n",
    "    df['Date'] = pd.to_datetime(df['time'], format = \"%Y%m%d:%H%M\")\n",
    "    df['Date']+= pd.Timedelta(hours=offset)\n",
    "    df['Gb(i)'] = pd.to_numeric(df['Gb(i)'])\n",
    "    df['Date_dt']=pd.to_datetime(df['Date'])\n",
    "    df.drop(axis = 1, labels = 'time', inplace = True )\n",
    "    VIC_PVGIS_data[i]=df"
   ]
  },
  {
   "cell_type": "code",
   "execution_count": null,
   "id": "7ba7c597-6814-4df1-8fa2-b7f9624c73ce",
   "metadata": {},
   "outputs": [],
   "source": [
    "NSW_List = os.listdir('data/PVGIS/NSW_trip')\n",
    "NSW_List = NSW_List[1:]\n",
    "NSW_PVGIS_data = {}\n",
    "offset = 10\n",
    "for i in range(0,len(NSW_List)):\n",
    "    df = pd.read_csv('data/PVGIS/NSW_trip/'+ NSW_List[i])\n",
    "    df.drop(df.tail(12).index,\n",
    "        inplace = True)\n",
    "    df['Date'] = pd.to_datetime(df['time'], format = \"%Y%m%d:%H%M\")\n",
    "    df['Gb(i)'] = pd.to_numeric(df['Gb(i)'])\n",
    "    df['Date']+= pd.Timedelta(hours=offset)\n",
    "    df['Date_dt']=pd.to_datetime(df['Date'])\n",
    "    df.drop(axis = 1, labels = 'time', inplace = True )\n",
    "    NSW_PVGIS_data[i]=df"
   ]
  },
  {
   "cell_type": "code",
   "execution_count": null,
   "id": "035528d5-6892-4093-9111-512e48cd5e6a",
   "metadata": {},
   "outputs": [],
   "source": [
    "WA_List = os.listdir('data/PVGIS/WA_trip')\n",
    "WA_List = WA_List[1:]\n",
    "WA_PVGIS_data = {}\n",
    "offset = 8 \n",
    "for i in range(0,len(WA_List)):\n",
    "    df = pd.read_csv('data/PVGIS/WA_trip/'+ WA_List[i])\n",
    "    df.drop(df.tail(12).index,\n",
    "        inplace = True)\n",
    "    df['Date'] = pd.to_datetime(df['time'], format = \"%Y%m%d:%H%M\")\n",
    "    df['Date']+= pd.Timedelta(hours=offset)\n",
    "    df['Date_dt']=pd.to_datetime(df['Date'])\n",
    "    df['Gb(i)'] = pd.to_numeric(df['Gb(i)'])\n",
    "    df.drop(axis = 1, labels = 'time', inplace = True )\n",
    "    WA_PVGIS_data[i]=df"
   ]
  },
  {
   "cell_type": "markdown",
   "id": "0f74ef31-d439-4b06-b762-22f150826fc6",
   "metadata": {
    "tags": []
   },
   "source": [
    "<h1>Importing Previously Processed PVGIS data in CSV format</h1>"
   ]
  },
  {
   "cell_type": "code",
   "execution_count": null,
   "id": "fc248fc2-bf23-4c0a-87ec-337b04f24a7a",
   "metadata": {},
   "outputs": [],
   "source": [
    "VIC_PVGIS_data = {}\n",
    "for i in range(0, len(VIC_coords)-1):\n",
    "    VIC_PVGIS_data[i] = pd.read_csv(\"data/PVGIS/Processed/VIC_PVGIS_processed_\"+f\"{i}\")"
   ]
  },
  {
   "cell_type": "code",
   "execution_count": null,
   "id": "a43231e6-65f0-4e83-ac34-c536a9842d69",
   "metadata": {},
   "outputs": [],
   "source": [
    "NSW_PVGIS_data = {}\n",
    "for i in range(0, len(NSW_coords)-1):\n",
    "    NSW_PVGIS_data[i] = pd.read_csv(\"data/PVGIS/Processed/NSW_PVGIS_processed_\"+f\"{i}\")"
   ]
  },
  {
   "cell_type": "code",
   "execution_count": null,
   "id": "5de6264b-79ad-4e8d-b107-79441e8831aa",
   "metadata": {},
   "outputs": [],
   "source": [
    "WA_PVGIS_data = {}\n",
    "for i in range(0, len(WA_coords)-1):\n",
    "    WA_PVGIS_data[i] = pd.read_csv(\"data/PVGIS/Processed/WA_PVGIS_processed_\"+f\"{i}\")"
   ]
  },
  {
   "cell_type": "markdown",
   "id": "306bc636-f0ee-43ad-a1d7-1a3bff5997d8",
   "metadata": {
    "tags": []
   },
   "source": [
    "<h1> Exporting Code for Initial Python Defined Variables </h1>\n",
    "Import from csv in the following paths for later recall"
   ]
  },
  {
   "cell_type": "code",
   "execution_count": null,
   "id": "2150110a-df58-42d1-a482-e9e8d82aab38",
   "metadata": {},
   "outputs": [],
   "source": [
    "for i in range(0,len(NSW_PVGIS_data)):\n",
    "    NSW_PVGIS_data[i].to_csv('data/PVGIS/Processed/NSW_PVGIS_processed_'+ f\"{i}\")"
   ]
  },
  {
   "cell_type": "code",
   "execution_count": null,
   "id": "6a10da3d-7a9b-411b-9bcc-19d028481e8c",
   "metadata": {},
   "outputs": [],
   "source": [
    "for i in range(0,len(VIC_PVGIS_data)):\n",
    "    VIC_PVGIS_data[i].to_csv('data/PVGIS/Processed/VIC_PVGIS_processed_'+ f\"{i}\")"
   ]
  },
  {
   "cell_type": "code",
   "execution_count": null,
   "id": "17ffb335-11b5-4913-83cc-c1f7e0181d34",
   "metadata": {},
   "outputs": [],
   "source": [
    "for i in range(0,len(WA_PVGIS_data)):\n",
    "    WA_PVGIS_data[i].to_csv('data/PVGIS/Processed/WA_PVGIS_processed_'+ f\"{i}\")"
   ]
  },
  {
   "cell_type": "markdown",
   "id": "eea4ad6c-4574-4948-b398-871eb56bf221",
   "metadata": {
    "tags": []
   },
   "source": [
    "<h1>Function Definition for Histogram Data</h1>"
   ]
  },
  {
   "cell_type": "code",
   "execution_count": null,
   "id": "72cd7bef-d367-4306-8268-94ed60317300",
   "metadata": {},
   "outputs": [],
   "source": [
    "def full_stage_downloaded(data,year,month,day,hour,minute,n_panels,P_stc,gamma_p):\n",
    "    sol_data = Coords_2_EY.data_collation(year,month,day,hour,minute,data)\n",
    "    processed_sol_data = Coords_2_EY.solar_data_processing(sol_data)\n",
    "    final = Coords_2_EY.calculate_power_energy(processed_sol_data,n_panels,P_stc,gamma_p)\n",
    "    return final"
   ]
  },
  {
   "cell_type": "code",
   "execution_count": null,
   "id": "08465b1c-0b93-4de2-b324-2359fa917cd0",
   "metadata": {},
   "outputs": [],
   "source": [
    "def histogram_data(K,data,hour,minute,n_panels,P_stc,gamma_p,state):\n",
    "    '''\n",
    "    Undertakes random analysis of energy yield on a random set of dates between range of available PVGIS data. \n",
    "    \n",
    "    :params K: the number of dates for random analysis, can increase / decrease sample size\n",
    "    :params data: pre-processed PVGIS data, in a list of data files with each index representative of the order of the coordinates of the trip (see in attached PVGIS_processed folder and import)\n",
    "    :params hour: start hour of trip of interest\n",
    "    :params minute: start minutes of trip of interest\n",
    "    :params n_panels: number of panels being simulated on the moving vehicles\n",
    "    :params P_stc: Power output of modelled solar panels under standard test conditions, provided by manufacturer\n",
    "    :params gamma_p: temperature coefficient of power of panels, as a decimal (should be negative)\n",
    "    :params state: string of the state of interest (must be in Australia)\n",
    "    \n",
    "    :returns: a list of energy outputs, the same length as K. \n",
    "    '''\n",
    "    if state ==  'WA':\n",
    "        test_date1, test_date2 = date(2006, 1, 1), date(2017, 1, 1)\n",
    "    else:\n",
    "        test_date1, test_date2 = date(2006, 1, 1), date(2021, 1, 1)\n",
    "    # getting days between dates\n",
    "    dates_bet = test_date2 - test_date1\n",
    "    total_days = dates_bet.days\n",
    "    # create an array of total days and select K random values without replacement\n",
    "    randays = np.random.choice(total_days, K, replace=False)\n",
    "    # getting random dates\n",
    "    res = [test_date1 + timedelta(days=int(day)) for day in randays]\n",
    "    \n",
    "    Date = []\n",
    "    energy_output = []\n",
    "    for i in range(0,len(res)):\n",
    "        year = res[i].year\n",
    "        month = res[i].month\n",
    "        day = res[i].day\n",
    "        Date.append(res[i])\n",
    "        table = full_stage_downloaded(data,year,month,day,hour,minute,n_panels,P_stc,gamma_p)\n",
    "        energy_output.append(table['Energy'].sum())\n",
    "        #print(f'{i}',\"/100\")\n",
    "        #print(\"Current Time =\", current_time)\n",
    "        #print(res[i])\n",
    "    outputs = pd.DataFrame()\n",
    "    outputs.insert(0, \"Date\", Date)\n",
    "    outputs.insert(1, \"Energy Output\", energy_output)\n",
    "    outputs.to_csv('results/randomdates' + '/' + f'{state}' + '/' + f'{state}'+ f'{hour}' + 'nPanels' + f'{n_panels}'  + '.csv')\n",
    "    now = datetime.now()\n",
    "    current_time = now.strftime(\"%H:%M:%S\")\n",
    "    print(\"Finished \", hour, \" \", minute, \"Current Time=\", current_time)\n",
    "    return energy_output"
   ]
  },
  {
   "cell_type": "code",
   "execution_count": null,
   "id": "a94b6fb5-d4e8-4723-ac50-08399a7ec30d",
   "metadata": {},
   "outputs": [],
   "source": [
    "def histogram_plot(dataset): \n",
    "    n_obs=len(dataset)\n",
    "    intervals = round(np.sqrt(n_obs))\n",
    "    rang = max(dataset) - min(dataset)\n",
    "    width = rang/intervals \n",
    "    bins=[round(min(dataset))+round(width*i) for i in range(0,intervals)]    \n",
    "    fig, ax = plt.subplots()\n",
    "    n, bins, patches = ax.hist(dataset, bins)\n",
    "    ax.set_xlabel('Energy Output (Wh)')\n",
    "    ax.set_ylabel('Count')\n",
    "    return fig, ax"
   ]
  },
  {
   "cell_type": "markdown",
   "id": "028f5347-0c00-4b92-809b-790463dbbb18",
   "metadata": {
    "tags": []
   },
   "source": [
    "<h1> Undertaking Functions on Data by State and Histogram Analysis</h1>"
   ]
  },
  {
   "cell_type": "markdown",
   "id": "a44ef5ef-599e-45a3-9710-e797ab37a704",
   "metadata": {
    "tags": []
   },
   "source": [
    "<h2> Obtaining Histogram Data</h2>\n",
    "\n",
    "Change script here to change the value of K, the number of random dates calculated. The following analysis is modelling Sunpower Maxeon 6 Panels. "
   ]
  },
  {
   "cell_type": "code",
   "execution_count": null,
   "id": "225b0483-0353-4670-80c6-8cad28cbe169",
   "metadata": {
    "scrolled": true,
    "tags": []
   },
   "outputs": [],
   "source": [
    "VIC_morn = histogram_data(1000,VIC_PVGIS_data,7,30,3,400,-0.0029,'VIC')\n",
    "VIC_lunch = histogram_data(1000,VIC_PVGIS_data,12,30,3,400,-0.0029,'VIC')\n",
    "VIC_arvo = histogram_data(1000,VIC_PVGIS_data,16,30,3,400,-0.0029,'VIC')"
   ]
  },
  {
   "cell_type": "code",
   "execution_count": null,
   "id": "0d70fad4-ab76-426c-bf5c-d54a46cde315",
   "metadata": {},
   "outputs": [],
   "source": [
    "NSW_morn = histogram_data(1000,NSW_PVGIS_data,7,30,3,400,-0.0029,'NSW')\n",
    "NSW_lunch = histogram_data(1000,NSW_PVGIS_data,12,30,3,400,-0.0029,'NSW')\n",
    "NSW_arvo = histogram_data(1000,NSW_PVGIS_data,16,30,3,400,-0.0029,'NSW')"
   ]
  },
  {
   "cell_type": "code",
   "execution_count": null,
   "id": "6da86882-5cbc-43f5-9451-2360fae531bf",
   "metadata": {},
   "outputs": [],
   "source": [
    "WA_morn = histogram_data(1000,WA_PVGIS_data,7,36,3,400,-0.0029,'WA')\n",
    "WA_lunch = histogram_data(1000,WA_PVGIS_data,12,36,3,400,-0.0029,'WA')\n",
    "WA_arvo = histogram_data(1000,WA_PVGIS_data,16,36,3,400,-0.0029,'WA')"
   ]
  },
  {
   "cell_type": "markdown",
   "id": "14dabc27-d8ca-477b-8b81-6cb4b19c45e5",
   "metadata": {
    "tags": [],
    "toc-hr-collapsed": true
   },
   "source": [
    "<h2>Import Existing Histogram Data</h2>\n",
    "If the code has already been executed and you would like to import data for plotting or further analysis."
   ]
  },
  {
   "cell_type": "code",
   "execution_count": null,
   "id": "1243a17d-e157-48b6-8781-368c9e8beb0e",
   "metadata": {},
   "outputs": [],
   "source": [
    "VIC_morn = pd.read_csv('results/randomdates/VIC/VIC7nPanels3.csv')\n",
    "VIC_lunch = pd.read_csv('results/randomdates/VIC/VIC12nPanels3.csv')\n",
    "VIC_arvo = pd.read_csv('results/randomdates/VIC/VIC16nPanels3.csv')\n",
    "\n",
    "NSW_morn = pd.read_csv('results/randomdates/NSW/NSW7nPanels3.csv')\n",
    "NSW_lunch = pd.read_csv('results/randomdates/NSW/NSW12nPanels3.csv')\n",
    "NSW_arvo = pd.read_csv('results/randomdates/NSW/NSW16nPanels3.csv')\n",
    "\n",
    "WA_morn = pd.read_csv('results/randomdates/WA/WA7nPanels3.csv')\n",
    "WA_lunch = pd.read_csv('results/randomdates/WA/WA12nPanels3.csv')\n",
    "WA_arvo = pd.read_csv('results/randomdates/WA/WA16nPanels3.csv')"
   ]
  },
  {
   "cell_type": "markdown",
   "id": "2bb2b43a-325c-40ea-a5da-10c308814191",
   "metadata": {
    "tags": []
   },
   "source": [
    "<h2>Histogram and Other Plots</h2>"
   ]
  },
  {
   "cell_type": "code",
   "execution_count": null,
   "id": "05897ad2-d548-4a6d-b789-e362f8e3d085",
   "metadata": {},
   "outputs": [],
   "source": [
    "fig, (ax1,ax2,ax3) = plt.subplots(1,3,sharey=True, figsize = (10,4))\n",
    "intervals = 20 #n_bins\n",
    "ax1.set_xlim(0,500)\n",
    "ax2.set_xlim(0,500)\n",
    "ax3.set_xlim(0,500)\n",
    "n_obs1=len(VIC_morn)\n",
    "rang1 = max(VIC_morn) - min(VIC_morn)\n",
    "width1 = rang1/intervals\n",
    "bins1=[round(min(VIC_morn))+round(width1*i) for i in range(0,intervals)]    \n",
    "\n",
    "n, bins, patches = ax1.hist(VIC_morn, bins1)\n",
    "ax1.set_xlabel('Energy Output (Wh)')\n",
    "ax1.set_ylabel('Count')\n",
    "ax1.set_title('VIC 7:30')\n",
    "\n",
    "n_obs2=len(VIC_lunch)\n",
    "rang2 = max(VIC_lunch) - min(VIC_lunch)\n",
    "width2 = rang2/intervals\n",
    "bins2=[round(min(VIC_lunch))+round(width2*i) for i in range(0,intervals)]    \n",
    "\n",
    "n, bins, patches = ax2.hist(VIC_lunch, bins2)\n",
    "ax2.set_xlabel('Energy Output (Wh)')\n",
    "ax2.set_title('VIC 12:30')\n",
    "\n",
    "n_obs3=len(VIC_arvo)\n",
    "rang3 = max(VIC_arvo) - min(VIC_arvo)\n",
    "width3 = rang3/intervals\n",
    "bins3=[round(min(VIC_arvo))+round(width3*i) for i in range(0,intervals)]    \n",
    "\n",
    "n, bins, patches = ax3.hist(VIC_arvo, bins3)\n",
    "ax3.set_xlabel('Energy Output (Wh)')\n",
    "ax3.set_title('VIC 16:30')"
   ]
  },
  {
   "cell_type": "code",
   "execution_count": null,
   "id": "217e03f4-df03-4d75-b8c7-18c440c0e30d",
   "metadata": {},
   "outputs": [],
   "source": [
    "fig, (ax1,ax2,ax3) = plt.subplots(1,3,sharey=True, figsize = (10,4))\n",
    "intervals = 20 #n_bins\n",
    "ax1.set_xlim(0,500)\n",
    "ax2.set_xlim(0,500)\n",
    "ax3.set_xlim(0,500)\n",
    "n_obs1=len(NSW_morn)\n",
    "rang1 = max(NSW_morn) - min(NSW_morn)\n",
    "width1 = rang1/intervals\n",
    "bins1=[round(min(NSW_morn))+round(width1*i) for i in range(0,intervals)]    \n",
    "\n",
    "n, bins, patches = ax1.hist(NSW_morn, bins1)\n",
    "ax1.set_xlabel('Energy Output (Wh)')\n",
    "ax1.set_ylabel('Count')\n",
    "ax1.set_title('NSW 7:30')\n",
    "\n",
    "n_obs2=len(NSW_lunch)\n",
    "rang2 = max(NSW_lunch) - min(NSW_lunch)\n",
    "width2 = rang2/intervals\n",
    "bins2=[round(min(NSW_lunch))+round(width2*i) for i in range(0,intervals)]    \n",
    "\n",
    "n, bins, patches = ax2.hist(NSW_lunch, bins2)\n",
    "ax2.set_xlabel('Energy Output (Wh)')\n",
    "ax2.set_title('NSW 12:30')\n",
    "\n",
    "n_obs3=len(NSW_arvo)\n",
    "rang3 = max(NSW_arvo) - min(NSW_arvo)\n",
    "width3 = rang3/intervals\n",
    "bins3=[round(min(NSW_arvo))+round(width3*i) for i in range(0,intervals)]    \n",
    "\n",
    "n, bins, patches = ax3.hist(NSW_arvo, bins3)\n",
    "ax3.set_xlabel('Energy Output (Wh)')\n",
    "ax3.set_title('NSW 16:30')"
   ]
  },
  {
   "cell_type": "code",
   "execution_count": null,
   "id": "d10236e2-461e-449e-98b5-26c128d45462",
   "metadata": {},
   "outputs": [],
   "source": [
    "fig, (ax1,ax2,ax3) = plt.subplots(1,3,sharey=True, figsize = (10,4))\n",
    "intervals = 20 #n_bins\n",
    "ax1.set_xlim(0,1700)\n",
    "ax2.set_xlim(0,1700)\n",
    "ax3.set_xlim(0,1700)\n",
    "n_obs1=len(WA_morn)\n",
    "rang1 = max(WA_morn) - min(WA_morn)\n",
    "width1 = rang1/intervals\n",
    "bins1=[round(min(WA_morn))+round(width1*i) for i in range(0,intervals)]    \n",
    "\n",
    "n, bins, patches = ax1.hist(WA_morn, bins1)\n",
    "ax1.set_xlabel('Energy Output (Wh)')\n",
    "ax1.set_ylabel('Count')\n",
    "ax1.set_title('WA 7:30')\n",
    "\n",
    "n_obs2=len(WA_lunch)\n",
    "rang2 = max(WA_lunch) - min(WA_lunch)\n",
    "width2 = rang2/intervals\n",
    "bins2=[round(min(WA_lunch))+round(width2*i) for i in range(0,intervals)]    \n",
    "\n",
    "n, bins, patches = ax2.hist(WA_lunch, bins2)\n",
    "ax2.set_xlabel('Energy Output (Wh)')\n",
    "ax2.set_title('WA 12:30')\n",
    "\n",
    "n_obs3=len(WA_arvo)\n",
    "rang3 = max(WA_arvo) - min(WA_arvo)\n",
    "width3 = rang3/intervals\n",
    "bins3=[round(min(WA_arvo))+round(width3*i) for i in range(0,intervals)]    \n",
    "\n",
    "n, bins, patches = ax3.hist(WA_arvo, bins3)\n",
    "ax3.set_xlabel('Energy Output (Wh)')\n",
    "ax3.set_title('WA 16:30')"
   ]
  },
  {
   "cell_type": "code",
   "execution_count": null,
   "id": "0fd4a44b-cd60-4ba2-8765-182b475ce7da",
   "metadata": {},
   "outputs": [],
   "source": [
    "fig, (ax1,ax2,ax3) = plt.subplots(1,3,sharey=True, figsize = (10,4))\n",
    "\n",
    "n_obs1=len(NSW_morn)\n",
    "intervals1 = 20\n",
    "rang1 = max(NSW_morn) - min(NSW_morn)\n",
    "width1 = rang1/intervals1 \n",
    "bins1=[round(min(NSW_morn))+round(width1*i) for i in range(0,intervals1)]    \n",
    "\n",
    "n, bins, patches = ax1.hist(NSW_morn, bins1, orientation = \"horizontal\")\n",
    "ax1.set_xlabel('Count')\n",
    "ax1.set_ylabel('Energy Output (Wh)')\n",
    "ax1.set_title('NSW 7:30')\n",
    "#ax1.axhline(501)\n",
    "\n",
    "n_obs2=len(VIC_morn)\n",
    "intervals2 = 20\n",
    "rang2 = max(VIC_morn) - min(VIC_morn)\n",
    "width2 = rang2/intervals2\n",
    "bins2=[round(min(VIC_morn))+round(width2*i) for i in range(0,intervals2)]    \n",
    "\n",
    "n, bins, patches = ax2.hist(VIC_morn, bins2, orientation = \"horizontal\")\n",
    "ax2.set_xlabel('Count')\n",
    "ax2.set_title('VIC 7:30')\n",
    "\n",
    "n_obs3=len(WA_morn)\n",
    "intervals3 = 20\n",
    "rang3 = max(WA_morn) - min(WA_morn)\n",
    "width3 = rang3/intervals3\n",
    "bins3=[round(min(WA_morn))+round(width3*i) for i in range(0,intervals3)]    \n",
    "\n",
    "n, bins, patches = ax3.hist(WA_morn, bins3, orientation = \"horizontal\")\n",
    "ax3.set_xlabel('Count')\n",
    "ax3.set_title('WA 7:36')\n",
    "#plt.savefig('./results/randomdates/random_morning_trip.png')"
   ]
  },
  {
   "cell_type": "code",
   "execution_count": null,
   "id": "be8d6b50-e205-41c0-935b-c43682a9d8b0",
   "metadata": {
    "tags": []
   },
   "outputs": [],
   "source": [
    "fig, (ax1,ax2,ax3) = plt.subplots(1,3,sharey=True, figsize = (10,4))\n",
    "\n",
    "n_obs1=len(NSW_lunch)\n",
    "intervals1 = 20\n",
    "rang1 = max(NSW_lunch) - min(NSW_lunch)\n",
    "width1 = rang1/intervals1 \n",
    "bins1=[round(min(NSW_lunch))+round(width1*i) for i in range(0,intervals1)]    \n",
    "\n",
    "n, bins, patches = ax1.hist(NSW_lunch, bins1, orientation = \"horizontal\")\n",
    "ax1.set_xlabel('Count')\n",
    "ax1.set_ylabel('Energy Output (Wh)')\n",
    "ax1.set_title('NSW 12:30pm')\n",
    "\n",
    "n_obs2=len(VIC_lunch)\n",
    "intervals2 = 20\n",
    "rang2 = max(VIC_lunch) - min(VIC_lunch)\n",
    "width2 = rang2/intervals2\n",
    "bins2=[round(min(VIC_lunch))+round(width2*i) for i in range(0,intervals2)]    \n",
    "\n",
    "n, bins, patches = ax2.hist(VIC_lunch, bins2, orientation = \"horizontal\")\n",
    "ax2.set_xlabel('Count')\n",
    "ax2.set_title('VIC 12:30pm')\n",
    "\n",
    "n_obs3=len(WA_lunch)\n",
    "intervals3 = 20\n",
    "rang3 = max(WA_lunch) - min(WA_lunch)\n",
    "width3 = rang3/intervals3\n",
    "bins3=[round(min(WA_lunch))+round(width3*i) for i in range(0,intervals3)]    \n",
    "\n",
    "n, bins, patches = ax3.hist(WA_lunch, bins3, orientation = \"horizontal\")\n",
    "ax3.set_xlabel('Count')\n",
    "ax3.set_title('WA 12:36pm')\n",
    "#plt.savefig('./results/randomdates/random_lunch_trip.png')"
   ]
  },
  {
   "cell_type": "code",
   "execution_count": null,
   "id": "1025b0b4-4202-4277-8f77-c949ee033406",
   "metadata": {},
   "outputs": [],
   "source": [
    "fig, (ax1,ax2,ax3) = plt.subplots(1,3,sharey=True, figsize = (10,4))\n",
    "\n",
    "n_obs1=len(NSW_arvo)\n",
    "intervals1 = 20\n",
    "rang1 = max(NSW_arvo) - min(NSW_arvo)\n",
    "width1 = rang1/intervals1 \n",
    "bins1=[round(min(NSW_arvo))+round(width1*i) for i in range(0,intervals1)]    \n",
    "\n",
    "n, bins, patches = ax1.hist(NSW_arvo, bins1, orientation = \"horizontal\")\n",
    "ax1.set_xlabel('Count')\n",
    "ax1.set_ylabel('Energy Output (Wh)')\n",
    "ax1.set_title('NSW 16:30')\n",
    "\n",
    "n_obs2=len(VIC_arvo)\n",
    "intervals2 = 20\n",
    "rang2 = max(VIC_arvo) - min(VIC_arvo)\n",
    "width2 = rang2/intervals2\n",
    "bins2=[round(min(VIC_arvo))+round(width2*i) for i in range(0,intervals2)]    \n",
    "\n",
    "n, bins, patches = ax2.hist(VIC_arvo, bins2, orientation = \"horizontal\")\n",
    "ax2.set_xlabel('Count')\n",
    "ax2.set_title('VIC 16:30')\n",
    "\n",
    "n_obs3=len(WA_arvo)\n",
    "intervals3 = 20\n",
    "rang3 = max(WA_arvo) - min(WA_arvo)\n",
    "width3 = rang3/intervals3\n",
    "bins3=[round(min(WA_arvo))+round(width3*i) for i in range(0,intervals3)]    \n",
    "\n",
    "n, bins, patches = ax3.hist(WA_arvo, bins3, orientation = \"horizontal\")\n",
    "ax3.set_xlabel('Count')\n",
    "ax3.set_title('WA 16:36')\n",
    "#plt.savefig('./results/randomdates/random_evening_trip.png')"
   ]
  }
 ],
 "metadata": {
  "kernelspec": {
   "display_name": "Python [conda env:research] *",
   "language": "python",
   "name": "conda-env-research-py"
  },
  "language_info": {
   "codemirror_mode": {
    "name": "ipython",
    "version": 3
   },
   "file_extension": ".py",
   "mimetype": "text/x-python",
   "name": "python",
   "nbconvert_exporter": "python",
   "pygments_lexer": "ipython3",
   "version": "3.10.9"
  }
 },
 "nbformat": 4,
 "nbformat_minor": 5
}
